{
  "nbformat": 4,
  "nbformat_minor": 0,
  "metadata": {
    "colab": {
      "name": "SelectAggregation.ipynb",
      "version": "0.3.2",
      "provenance": []
    },
    "kernelspec": {
      "name": "python3",
      "display_name": "Python 3"
    }
  },
  "cells": [
    {
      "cell_type": "code",
      "metadata": {
        "id": "f48ZZWY3_8FV",
        "colab_type": "code",
        "colab": {}
      },
      "source": [
        "import numpy as np\n",
        "import pandas as pd\n",
        "import textwrap"
      ],
      "execution_count": 0,
      "outputs": []
    },
    {
      "cell_type": "code",
      "metadata": {
        "id": "HcHM1sHX8BNg",
        "colab_type": "code",
        "colab": {}
      },
      "source": [
        "def summarize(article_id, scale, data_path, dict_path) : #article id as string, scale as number from 0 - 100 and data_path as string\n",
        "  results_df = pd.read_csv(data_path)\n",
        "  df = pd.read_csv(dict_path)\n",
        "  sentence_dict = dict(zip(list(df[df.columns[2]]), list(df[df.columns[1]])))\n",
        "  tuple_list = []\n",
        "\n",
        "  for index, row in results_df.iterrows():\n",
        "    #try:\n",
        "      sentence = sentence_dict[row['sentence_order']]\n",
        "      tuple_list.append((row['article_id'], row['sentence_order'], sentence,\n",
        "                       row['agreement']))\n",
        "#     except KeyError:\n",
        "#       print(\"This dictionary is fucked\")\n",
        "  \n",
        "  article_list = [(entry[1], entry[2], entry[3]) for entry in tuple_list if entry[0] == article_id]\n",
        "\n",
        "  scale_list = [(entry[0], entry[1]) for entry in article_list if entry[2] >= scale]\n",
        "\n",
        "  sorted_list = sorted(scale_list, key=lambda x: x[0])\n",
        "\n",
        "  final_list = [entry[1] for entry in sorted_list]\n",
        "\n",
        "  unbound_string = ' '.join(final_list)\n",
        "\n",
        "  return unbound_string #textwrap.fill(unbound_string)\n",
        "\n",
        "  "
      ],
      "execution_count": 0,
      "outputs": []
    },
    {
      "cell_type": "code",
      "metadata": {
        "id": "ltNbnibj9UG5",
        "colab_type": "code",
        "outputId": "c8acbf7b-4bc1-47c2-db62-2e0540076197",
        "colab": {
          "base_uri": "https://localhost:8080/",
          "height": 54
        }
      },
      "source": [
        "result = (summarize(5, 80, \"select_qc_output.csv\", 'select_sentence_dict.csv'))\n",
        "text_file = open(\"summary.txt\", \"w\")\n",
        "text_file.write(result)\n",
        "text_file.close()\n",
        "print(result)"
      ],
      "execution_count": 0,
      "outputs": [
        {
          "output_type": "stream",
          "text": [
            "In Washington, the backlash to Trumps abrupt decision was immediate. If you decide to follow through with your decision to pull our troops out of Syria, any remnants of ISIS in Syria will surely renew and embolden their efforts in the region, they wrote. In a rare public statement, Mazloum also appealed to Trump, asking him to keep at least half of the two thousand troops in place until all of the Islamic States territory was liberated. A senior U.S. official who had worked closely with Mazloum reflected, Never once did he not live up to exactly what he said he was going to do. The S.D.F. fought on as the United States quietly began pulling out troops and equipment. The U.S.-led international coalition provided air cover, but it depended on the Syrian Democratic Forces, or S.D.F., to protect their troops on the ground.\n"
          ],
          "name": "stdout"
        }
      ]
    }
  ]
}