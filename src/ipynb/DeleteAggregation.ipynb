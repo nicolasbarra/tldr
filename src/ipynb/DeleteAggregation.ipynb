{
  "nbformat": 4,
  "nbformat_minor": 0,
  "metadata": {
    "colab": {
      "name": "DeleteAggregation.ipynb",
      "version": "0.3.2",
      "provenance": []
    },
    "kernelspec": {
      "name": "python3",
      "display_name": "Python 3"
    }
  },
  "cells": [
    {
      "cell_type": "code",
      "metadata": {
        "id": "f48ZZWY3_8FV",
        "colab_type": "code",
        "colab": {}
      },
      "source": [
        "import numpy as np\n",
        "import pandas as pd\n",
        "import textwrap"
      ],
      "execution_count": 0,
      "outputs": []
    },
    {
      "cell_type": "code",
      "metadata": {
        "id": "HcHM1sHX8BNg",
        "colab_type": "code",
        "colab": {}
      },
      "source": [
        "def summarize(article_id, scale, data_path, dict_path) : #article id as string, scale as number from 0 - 100 and data_path as string\n",
        "  results_df = pd.read_csv(data_path)\n",
        "  df = pd.read_csv(dict_path)\n",
        "  sentence_dict = dict(zip(list(df[df.columns[2]]), list(df[df.columns[1]])))\n",
        "  tuple_list = []\n",
        "\n",
        "  for index, row in results_df.iterrows():\n",
        "    #try:\n",
        "      sentence = sentence_dict[row['sentence_order']]\n",
        "      tuple_list.append((row['article_id'], row['sentence_order'], sentence,\n",
        "                       row['agreement']))\n",
        "#     except KeyError:\n",
        "#       print(\"This dictionary is fucked\")\n",
        "  \n",
        "  article_list = [(entry[1], entry[2], entry[3]) for entry in tuple_list if entry[0] == article_id]\n",
        "\n",
        "  scale_list = [(entry[0], entry[1]) for entry in article_list if entry[2] <= 100 - scale]\n",
        "\n",
        "  sorted_list = sorted(scale_list, key=lambda x: x[0])\n",
        "\n",
        "  final_list = [entry[1] for entry in sorted_list if not isinstance(entry[1], float)]\n",
        "  \n",
        "  unbound_string = ' '.join(final_list)\n",
        "\n",
        "  return unbound_string #textwrap.fill(unbound_string)\n",
        "\n",
        "  "
      ],
      "execution_count": 0,
      "outputs": []
    },
    {
      "cell_type": "code",
      "metadata": {
        "id": "ltNbnibj9UG5",
        "colab_type": "code",
        "outputId": "4ce78cb8-a625-440f-df38-8c3809fa0b6e",
        "colab": {
          "base_uri": "https://localhost:8080/",
          "height": 54
        }
      },
      "source": [
        "result = (summarize(5, 90, \"delete_qc_output.csv\", 'delete_senetence_dict.csv'))\n",
        "text_file = open(\"summary.txt\", \"w\")\n",
        "text_file.write(result)\n",
        "text_file.close()\n",
        "print(result)"
      ],
      "execution_count": 0,
      "outputs": [
        {
          "output_type": "stream",
          "text": [
            "The Islamic State has finally fizzled. Mazloum opted for an alliance with the Americans. After a gruelling five-month battle, ISIS experienced its first defeat. Thousands of U.S. and coalition air strikes demolished ISIS offices, barracks, convoys, checkpoints, and arms depots. The Obama Administration also quietly deployed hundreds of additional U.S. Special Forces to Syria. During the 2016 Presidential campaign, Donald Trump had repeatedly blasted the Obama Administration for not doing enough to defeat ISIS. The S.D.F. seized the ISIS capital in October. More than six hundred and fifty S.D.F. fightersKurds, Arabs, Turkmen, and Syriac Christianswere killed in Raqqa. Former U.S. officials familiar with the call told me that the President did not fully grasp the details, players, or regional politics of his own decision to arm the Kurdsor that it was the decision that enabled the Kurdish-led S.D.F. The U.S.-backed border force was designed to deal with a problem that Erdogan had not addressed. The Turkish-backed invasion forced Mazloum to pull S.D.F. The final hurdle was to clear Deir Ezzor province, which is home to Syrias most valuable oil fields. Two days later, Trump tweeted, We have defeated ISIS in Syria, my only reason for being there during the Trump Presidency. The problem was that ISIS had not yet collapsed. fought on as the United States quietly began pulling out troops and equipment. The campaign in Syria liberated roughly the same amount of territory. Together, they seized twenty thousand square miles in northern Syria, a dusty region of crops, pastures, and oil fields that reminded me of Oklahoma. Mazloum had a standing militia that proved it could fight, even with only vintage weapons. His original militia was the Peoples Protection Units, or Y.P.G. ; it was Kurdish. The P.K.K. But the Y.P.G. is not a terrorist organization.\n"
          ],
          "name": "stdout"
        }
      ]
    }
  ]
}