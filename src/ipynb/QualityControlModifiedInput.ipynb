{
  "nbformat": 4,
  "nbformat_minor": 0,
  "metadata": {
    "colab": {
      "name": "QualityControlModifiedInput.ipynb",
      "version": "0.3.2",
      "provenance": [],
      "collapsed_sections": []
    },
    "kernelspec": {
      "name": "python3",
      "display_name": "Python 3"
    }
  },
  "cells": [
    {
      "metadata": {
        "id": "-q4i4hZEn-gB",
        "colab_type": "code",
        "colab": {}
      },
      "cell_type": "code",
      "source": [
        "import numpy as np\n",
        "import pandas as pd\n",
        "import glob"
      ],
      "execution_count": 0,
      "outputs": []
    },
    {
      "metadata": {
        "id": "VALGQd_SuIDG",
        "colab_type": "code",
        "outputId": "3f51f39c-1f26-466c-9343-2aa75dbf6a21",
        "colab": {
          "base_uri": "https://localhost:8080/",
          "height": 197
        }
      },
      "cell_type": "code",
      "source": [
        "results_df = pd.read_csv('test.csv')\n",
        "print(results_df.shape)\n",
        "results_df.head()\n"
      ],
      "execution_count": 3,
      "outputs": [
        {
          "output_type": "stream",
          "text": [
            "(1, 58)\n"
          ],
          "name": "stdout"
        },
        {
          "output_type": "execute_result",
          "data": {
            "text/html": [
              "<div>\n",
              "<style scoped>\n",
              "    .dataframe tbody tr th:only-of-type {\n",
              "        vertical-align: middle;\n",
              "    }\n",
              "\n",
              "    .dataframe tbody tr th {\n",
              "        vertical-align: top;\n",
              "    }\n",
              "\n",
              "    .dataframe thead th {\n",
              "        text-align: right;\n",
              "    }\n",
              "</style>\n",
              "<table border=\"1\" class=\"dataframe\">\n",
              "  <thead>\n",
              "    <tr style=\"text-align: right;\">\n",
              "      <th></th>\n",
              "      <th>HITId</th>\n",
              "      <th>HITTypeId</th>\n",
              "      <th>Title</th>\n",
              "      <th>Description</th>\n",
              "      <th>Keywords</th>\n",
              "      <th>Reward</th>\n",
              "      <th>CreationTime</th>\n",
              "      <th>MaxAssignments</th>\n",
              "      <th>RequesterAnnotation</th>\n",
              "      <th>AssignmentDurationInSeconds</th>\n",
              "      <th>...</th>\n",
              "      <th>Answer.3.on</th>\n",
              "      <th>Answer.4.on</th>\n",
              "      <th>Answer.5.on</th>\n",
              "      <th>Answer.6.on</th>\n",
              "      <th>Answer.7.on</th>\n",
              "      <th>Answer.8.on</th>\n",
              "      <th>Answer.9.on</th>\n",
              "      <th>Answer.feedback</th>\n",
              "      <th>Approve</th>\n",
              "      <th>Reject</th>\n",
              "    </tr>\n",
              "  </thead>\n",
              "  <tbody>\n",
              "    <tr>\n",
              "      <th>0</th>\n",
              "      <td>3P6ENY9P79KOSMHO7C4TEAVVGAZHIF</td>\n",
              "      <td>3T7LDS1BZWD431CQUL0BU99C65691S</td>\n",
              "      <td>trdl_1</td>\n",
              "      <td>This projects aims to use crowdsourcing to sum...</td>\n",
              "      <td>passage, summary, sentences</td>\n",
              "      <td>$0.00</td>\n",
              "      <td>Thu Apr 18 13:25:17 PDT 2019</td>\n",
              "      <td>10</td>\n",
              "      <td>BatchId:234728;OriginalHitTemplateId:921587254;</td>\n",
              "      <td>3600</td>\n",
              "      <td>...</td>\n",
              "      <td>False</td>\n",
              "      <td>False</td>\n",
              "      <td>False</td>\n",
              "      <td>True</td>\n",
              "      <td>False</td>\n",
              "      <td>False</td>\n",
              "      <td>False</td>\n",
              "      <td>ddd</td>\n",
              "      <td>NaN</td>\n",
              "      <td>NaN</td>\n",
              "    </tr>\n",
              "  </tbody>\n",
              "</table>\n",
              "<p>1 rows × 58 columns</p>\n",
              "</div>"
            ],
            "text/plain": [
              "                            HITId                       HITTypeId   Title  \\\n",
              "0  3P6ENY9P79KOSMHO7C4TEAVVGAZHIF  3T7LDS1BZWD431CQUL0BU99C65691S  trdl_1   \n",
              "\n",
              "                                         Description  \\\n",
              "0  This projects aims to use crowdsourcing to sum...   \n",
              "\n",
              "                      Keywords Reward                  CreationTime  \\\n",
              "0  passage, summary, sentences  $0.00  Thu Apr 18 13:25:17 PDT 2019   \n",
              "\n",
              "   MaxAssignments                              RequesterAnnotation  \\\n",
              "0              10  BatchId:234728;OriginalHitTemplateId:921587254;   \n",
              "\n",
              "   AssignmentDurationInSeconds  ...    Answer.3.on Answer.4.on  Answer.5.on  \\\n",
              "0                         3600  ...          False       False        False   \n",
              "\n",
              "   Answer.6.on Answer.7.on Answer.8.on Answer.9.on Answer.feedback Approve  \\\n",
              "0         True       False       False       False             ddd     NaN   \n",
              "\n",
              "  Reject  \n",
              "0    NaN  \n",
              "\n",
              "[1 rows x 58 columns]"
            ]
          },
          "metadata": {
            "tags": []
          },
          "execution_count": 3
        }
      ]
    },
    {
      "metadata": {
        "id": "MsI0U9MPuTw2",
        "colab_type": "code",
        "outputId": "842592da-d5d1-4d0c-8c3a-ba8a926dabb0",
        "colab": {
          "base_uri": "https://localhost:8080/",
          "height": 54
        }
      },
      "cell_type": "code",
      "source": [
        "from collections import Counter\n",
        "\n",
        "counts = Counter()\n",
        "maxVotes = Counter()\n",
        "\n",
        "columns = [col for col in results_df.columns if '.on' in col]\n",
        "\n",
        "for index, row in results_df.iterrows():\n",
        "  for col in columns: \n",
        "    is_relevant = row[col]\n",
        "    sentence_order = int(row['Title'][5:]) * 28 + int(col.split('.')[1])\n",
        "    article = row['Title'][:4]\n",
        "    sentence = (article, sentence_order)\n",
        "    if is_relevant == 1:\n",
        "      counts[sentence] += 1\n",
        "    else:\n",
        "      counts[sentence] += 0\n",
        "    if counts[sentence] >= maxVotes[article]:\n",
        "      maxVotes[article] = counts[sentence]\n",
        "\n",
        "print(counts)\n",
        "    "
      ],
      "execution_count": 14,
      "outputs": [
        {
          "output_type": "stream",
          "text": [
            "Counter({('trdl', 42): 1, ('trdl', 52): 1, ('trdl', 34): 1, ('trdl', 29): 0, ('trdl', 38): 0, ('trdl', 39): 0, ('trdl', 40): 0, ('trdl', 41): 0, ('trdl', 43): 0, ('trdl', 44): 0, ('trdl', 45): 0, ('trdl', 46): 0, ('trdl', 47): 0, ('trdl', 30): 0, ('trdl', 48): 0, ('trdl', 49): 0, ('trdl', 50): 0, ('trdl', 51): 0, ('trdl', 53): 0, ('trdl', 54): 0, ('trdl', 55): 0, ('trdl', 56): 0, ('trdl', 31): 0, ('trdl', 32): 0, ('trdl', 33): 0, ('trdl', 35): 0, ('trdl', 36): 0, ('trdl', 37): 0})\n"
          ],
          "name": "stdout"
        }
      ]
    },
    {
      "metadata": {
        "id": "UKzyt3gbzIQo",
        "colab_type": "code",
        "outputId": "0f9e3fc6-522b-4ae2-e9ab-bcf2681bc57e",
        "colab": {
          "base_uri": "https://localhost:8080/",
          "height": 510
        }
      },
      "cell_type": "code",
      "source": [
        "final_df = pd.DataFrame.from_dict(counts, orient='index')\n",
        "\n",
        "dict_list = []\n",
        "\n",
        "for index, row in final_df.iterrows():\n",
        "  dict_list.append ( \n",
        "    {\n",
        "    'article_id': row.name[0],\n",
        "    'sentence_order': row.name[1],\n",
        "    'votes': row[0],\n",
        "    'max_votes': maxVotes[row.name[0]],     \n",
        "    'agreement': row[0] / maxVotes[row.name[0]] * 100      \n",
        "    }\n",
        "  )\n",
        " \n",
        "transform_df = pd.DataFrame.from_dict(dict_list)\n",
        "\n",
        "print(transform_df)\n",
        "\n",
        "transform_df.to_csv(\"output.csv\")"
      ],
      "execution_count": 15,
      "outputs": [
        {
          "output_type": "stream",
          "text": [
            "    agreement article_id  max_votes  sentence_order  votes\n",
            "0         0.0       trdl          1              29      0\n",
            "1         0.0       trdl          1              38      0\n",
            "2         0.0       trdl          1              39      0\n",
            "3         0.0       trdl          1              40      0\n",
            "4         0.0       trdl          1              41      0\n",
            "5       100.0       trdl          1              42      1\n",
            "6         0.0       trdl          1              43      0\n",
            "7         0.0       trdl          1              44      0\n",
            "8         0.0       trdl          1              45      0\n",
            "9         0.0       trdl          1              46      0\n",
            "10        0.0       trdl          1              47      0\n",
            "11        0.0       trdl          1              30      0\n",
            "12        0.0       trdl          1              48      0\n",
            "13        0.0       trdl          1              49      0\n",
            "14        0.0       trdl          1              50      0\n",
            "15        0.0       trdl          1              51      0\n",
            "16      100.0       trdl          1              52      1\n",
            "17        0.0       trdl          1              53      0\n",
            "18        0.0       trdl          1              54      0\n",
            "19        0.0       trdl          1              55      0\n",
            "20        0.0       trdl          1              56      0\n",
            "21        0.0       trdl          1              31      0\n",
            "22        0.0       trdl          1              32      0\n",
            "23        0.0       trdl          1              33      0\n",
            "24      100.0       trdl          1              34      1\n",
            "25        0.0       trdl          1              35      0\n",
            "26        0.0       trdl          1              36      0\n",
            "27        0.0       trdl          1              37      0\n"
          ],
          "name": "stdout"
        }
      ]
    }
  ]
}