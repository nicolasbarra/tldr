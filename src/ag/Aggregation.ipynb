{
  "nbformat": 4,
  "nbformat_minor": 0,
  "metadata": {
    "colab": {
      "name": "Aggregation.ipynb",
      "version": "0.3.2",
      "provenance": []
    },
    "kernelspec": {
      "name": "python3",
      "display_name": "Python 3"
    }
  },
  "cells": [
    {
      "metadata": {
        "id": "f48ZZWY3_8FV",
        "colab_type": "code",
        "colab": {}
      },
      "cell_type": "code",
      "source": [
        "import numpy as np\n",
        "import pandas as pd\n",
        "import textwrap"
      ],
      "execution_count": 0,
      "outputs": []
    },
    {
      "metadata": {
        "id": "HcHM1sHX8BNg",
        "colab_type": "code",
        "colab": {}
      },
      "cell_type": "code",
      "source": [
        "def summarize(article_id, scale, data_path) : #article id as string, scale as number from 0 - 100 and data_path as string\n",
        "  results_df = pd.read_csv(data_path)\n",
        "  \n",
        "  tuple_list = []\n",
        "\n",
        "  for index, row in results_df.iterrows():\n",
        "    tuple_list.append((row['article_id'], row['sentence_order'], row['sentence'],\n",
        "                     row['agreement']))\n",
        "  \n",
        "  article_list = [(entry[1], entry[2], entry[3]) for entry in tuple_list if entry[0] == article_id]\n",
        "\n",
        "  scale_list = [(entry[0], entry[1]) for entry in article_list if entry[2] >= scale]\n",
        "\n",
        "  sorted_list = sorted(scale_list, key=lambda x: x[0])\n",
        "\n",
        "  final_list = [entry[1] for entry in sorted_list]\n",
        "\n",
        "  unbound_string = ' '.join(final_list)\n",
        "\n",
        "  return textwrap.fill(unbound_string)\n",
        "\n",
        "  "
      ],
      "execution_count": 0,
      "outputs": []
    },
    {
      "metadata": {
        "id": "ltNbnibj9UG5",
        "colab_type": "code",
        "colab": {
          "base_uri": "https://localhost:8080/",
          "height": 544
        },
        "outputId": "258365ee-785f-4b63-aafc-6886d8a95ca3"
      },
      "cell_type": "code",
      "source": [
        "result = (summarize(\"Article1\", 90, \"output.csv\"))\n",
        "text_file = open(\"summary.txt\", \"w\")\n",
        "text_file.write(result)\n",
        "text_file.close()\n",
        "print(result)"
      ],
      "execution_count": 31,
      "outputs": [
        {
          "output_type": "stream",
          "text": [
            "Netanyahu, Gantz, and Five Scenarios for the Israeli Election Bernard\n",
            "Avishai If the final polls on the Israeli election are to be\n",
            "believed—by law, there will be no more revealed before the voting\n",
            "begins, on Tuesday morning—things are looking better for Prime\n",
            "Minister Benjamin Netanyahu’s Likud Party than for Blue and White, the\n",
            "new centrist party led by the former military Chief of Staff Benny\n",
            "Gantz. Consider the head-spinning possibilities: Gantz wins\n",
            "outright—and his problems begin. For Blue and White to win a\n",
            "plurality, a significant number of secular, formerly right-of-center\n",
            "voters will have to support it. So Gantz would be trapped. Gantz seems\n",
            "to be counting on eating his Zionist cake while depending on those who\n",
            "would not have it. Netanyahu is facing indictments. Netanyahu’s way\n",
            "around this is to form a coalition that will urgently pass two laws.\n",
            "In effect, Netanyahu would be putting himself above the law. Netanyahu\n",
            "wins narrowly—and faces a Likud revolt. If Netanyahu’s bloc does win\n",
            "only a bare majority, his ability to form a government won’t be much\n",
            "better than Gantz’s. This is a radical possibility that may appear\n",
            "less so as the post-election dust settles. Indeed, in ordinary years,\n",
            "such a government would seem irresistible. The President, Reuven\n",
            "Rivlin, concerned about the integrity of civil society and its\n",
            "judicial institutions, is reported to be entertaining this idea. A\n",
            "unity government is installed. Netanyahu’s proceedings are in the way,\n",
            "however. The only way that he could be moved aside is if Rivlin, who\n",
            "has long been alienated from him, consults with all parties, concedes\n",
            "a virtual tie, and turns to a third member of the Knesset—say, a\n",
            "veteran Likud rival such as Sa’ar—and asks that member to assemble a\n",
            "coalition. There is much to learn from this campaign, none of it\n",
            "reassuring. Like Trump’s supporters, Netanyahu’s often seem to so\n",
            "deeply identify with his everyman posturing, his regional bullying,\n",
            "and his nationalist resentments that democratic institutions can be\n",
            "made to appear as just another élitist preoccupation.\n"
          ],
          "name": "stdout"
        }
      ]
    }
  ]
}