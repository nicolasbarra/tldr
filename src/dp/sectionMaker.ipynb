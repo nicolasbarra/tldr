{
  "nbformat": 4,
  "nbformat_minor": 0,
  "metadata": {
    "colab": {
      "name": "sectionMaker.ipynb",
      "version": "0.3.2",
      "provenance": [],
      "collapsed_sections": []
    },
    "kernelspec": {
      "name": "python3",
      "display_name": "Python 3"
    }
  },
  "cells": [
    {
      "metadata": {
        "id": "18v7EchIyDAb",
        "colab_type": "code",
        "colab": {
          "base_uri": "https://localhost:8080/",
          "height": 51
        },
        "outputId": "344ff76a-8173-47c9-c3ed-199f6dbf4ffa"
      },
      "cell_type": "code",
      "source": [
        "import nltk\n",
        "from nltk import sent_tokenize\n",
        "nltk.download('punkt')\n",
        "from google.colab import files"
      ],
      "execution_count": 25,
      "outputs": [
        {
          "output_type": "stream",
          "text": [
            "[nltk_data] Downloading package punkt to /root/nltk_data...\n",
            "[nltk_data]   Package punkt is already up-to-date!\n"
          ],
          "name": "stdout"
        }
      ]
    },
    {
      "metadata": {
        "id": "BOmiB5ZIeuPN",
        "colab_type": "code",
        "colab": {
          "base_uri": "https://localhost:8080/",
          "height": 238
        },
        "outputId": "8c849527-428d-421e-8e93-6a05c9224556"
      },
      "cell_type": "code",
      "source": [
        "# list nums = <span style=\"color:Blue;\"><b>①</b></span>.\n",
        "# <span style=\"color:Blue;\"><b>②</b></span>.\n",
        "# <span style=\"color:Blue;\"><b>③</b></span>.\n",
        "# <span style=\"color:Blue;\"><b>④</b></span>.\n",
        "# <span style=\"color:Blue;\"><b>⑤</b></span>.\n",
        "# <span style=\"color:Blue;\"><b>⑥</b></span>.\n",
        "# <span style=\"color:Blue;\"><b>⑦</b></span>.\n",
        "# <span style=\"color:Blue;\"><b>⑧</b></span>.\n",
        "# <span style=\"color:Blue;\"><b>⑨</b></span>.\n",
        "# <span style=\"color:Blue;\"><b>⑩</b></span>.\n",
        "# <span style=\"color:Blue;\"><b>⑪</b></span>.\n",
        "# <span style=\"color:Blue;\"><b>⑪</b></span>.\n",
        "# <span style=\"color:Blue;\"><b>⑬</b></span>.\n",
        "# <span style=\"color:Blue;\"><b>⑭</b></span>.\n",
        "# <span style=\"color:Blue;\"><b>⑮</b></span>.\n",
        "# <span style=\"color:Blue;\"><b>⑯</b></span>.\n",
        "# <span style=\"color:Blue;\"><b>⑰</b></span>.\n",
        "# <span style=\"color:Blue;\"><b>⑱</b></span>.\n",
        "# <span style=\"color:Blue;\"><b>⑲</b></span>.\n",
        "# <span style=\"color:Blue;\"><b>⑳</b></span>.\n",
        "\n",
        "chunks = ['HTB00','HTB01','HTB02','HTB03','HTB04','HTB05','HTB06','HTB07','HTB08','HTB09','HTB10','HTB11','HTB12']\n",
        "\n",
        "def process(chunk):\n",
        "  section = \"\"\n",
        "  count = 0\n",
        "  pref = '<span style=\"color:Blue;\"><b>'\n",
        "  suf = '</b></span>.'\n",
        "  nums = ['①','②','③','④','⑤','⑥','⑦','⑧','⑨','⑩','⑪','⑫','⑬','⑭','⑮','⑯','⑰','⑱','⑲','⑳']\n",
        "  with open(chunk + '.txt','r') as f:\n",
        "    for line in f:\n",
        "      sentences = sent_tokenize(line)\n",
        "      for s in sentences:\n",
        "        if count < 20:\n",
        "          data = s + pref + nums[count] + suf\n",
        "        else:\n",
        "          cnt = str(count)\n",
        "          data = s + pref + nums[int(cnt[0])] + nums[int(cnt[1])] + suf\n",
        "        count += 1\n",
        "        section = section + data + \" \"\n",
        "\n",
        "  tagged = open(chunk + \"Tagged.txt\",\"w\")\n",
        "  tagged.write(section)\n",
        "  files.download(chunk + \"Tagged.txt\")\n",
        "  \n",
        "for chunk in chunks:\n",
        "  process(chunk)\n",
        "  print ('done')\n",
        "\n"
      ],
      "execution_count": 27,
      "outputs": [
        {
          "output_type": "stream",
          "text": [
            "done\n",
            "done\n",
            "done\n",
            "done\n",
            "done\n",
            "done\n",
            "done\n",
            "done\n",
            "done\n",
            "done\n",
            "done\n",
            "done\n",
            "done\n"
          ],
          "name": "stdout"
        }
      ]
    }
  ]
}